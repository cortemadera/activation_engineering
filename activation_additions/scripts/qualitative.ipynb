{
 "cells": [
  {
   "attachments": {},
   "cell_type": "markdown",
   "id": "373e33a4",
   "metadata": {},
   "source": [
    "# Some steering examples\n",
    "This notebook showcases and reproduces some of the steering examples from our LessWrong post\n",
    "\n",
    "<span style=\"color:red\">When running this in Google Colab, be sure to set your runtime Hardware Accelerator to GPU and your Runtime Shape to High-RAM.</span>"
   ]
  },
  {
   "cell_type": "code",
   "execution_count": 1,
   "id": "3fbe1f84",
   "metadata": {},
   "outputs": [],
   "source": [
    "try:\n",
    "    import activation_additions\n",
    "except ImportError:\n",
    "    commit = \"ef0818ccde\"  # Stable commit\n",
    "    get_ipython().run_line_magic(\n",
    "        magic_name=\"pip\",\n",
    "        line=(\n",
    "            \"install -U\"\n",
    "            f\" git+https://github.com/montemac/activation_additions.git@{commit}\"\n",
    "        ),\n",
    "    )\n"
   ]
  },
  {
   "cell_type": "code",
   "execution_count": 2,
   "id": "9026d1a6",
   "metadata": {},
   "outputs": [],
   "source": [
    "import torch\n",
    "\n",
    "from typing import List, Dict, Union, Callable\n",
    "from functools import partial\n",
    "from transformer_lens.HookedTransformer import HookedTransformer\n",
    "from activation_additions.prompt_utils import (\n",
    "    ActivationAddition,\n",
    "    get_x_vector,\n",
    ")\n",
    "from activation_additions.completion_utils import print_n_comparisons"
   ]
  },
  {
   "cell_type": "code",
   "execution_count": 3,
   "id": "42f6146a",
   "metadata": {},
   "outputs": [
    {
     "name": "stderr",
     "output_type": "stream",
     "text": [
      "Using pad_token, but it is not set yet.\n"
     ]
    },
    {
     "name": "stdout",
     "output_type": "stream",
     "text": [
      "Loaded pretrained model gpt2-xl into HookedTransformer\n",
      "Moving model to device:  cuda:6\n",
      "gpt2-xl has 48 layers.\n"
     ]
    }
   ],
   "source": [
    "model_name: str = \"gpt2-xl\"\n",
    "device: str = \"cuda\" if torch.cuda.is_available() else \"cpu\"\n",
    "model: HookedTransformer = HookedTransformer.from_pretrained(\n",
    "    model_name, device=\"cpu\"\n",
    ")\n",
    "_ = model.to(device)\n",
    "_ = torch.set_grad_enabled(False)\n",
    "num_layers: int = model.cfg.n_layers\n",
    "print(f\"{model_name} has {num_layers} layers.\")"
   ]
  },
  {
   "cell_type": "code",
   "execution_count": 4,
   "id": "0526bb02",
   "metadata": {},
   "outputs": [],
   "source": [
    "sampling_kwargs: Dict[str, Union[float, int]] = {\n",
    "    \"temperature\": 1.0,\n",
    "    \"top_p\": 0.3,\n",
    "    \"freq_penalty\": 1.0,\n",
    "    \"num_comparisons\": 3,\n",
    "    \"tokens_to_generate\": 50,\n",
    "    \"seed\": 0,  # For reproducibility\n",
    "}\n",
    "get_x_vector_preset: Callable = partial(\n",
    "    get_x_vector,\n",
    "    pad_method=\"tokens_right\",\n",
    "    model=model,\n",
    "    custom_pad_id=int(model.to_single_token(\" \")),\n",
    ")\n"
   ]
  },
  {
   "attachments": {},
   "cell_type": "markdown",
   "id": "6d67b14f",
   "metadata": {},
   "source": [
    "### Example 1: Love - Hate"
   ]
  },
  {
   "cell_type": "code",
   "execution_count": 5,
   "id": "90027c67",
   "metadata": {},
   "outputs": [
    {
     "name": "stdout",
     "output_type": "stream",
     "text": [
      "+--------------------------------------------------------------+--------------------------------------------------------------+\n",
      "|                    \u001b[1mUnsteered completions\u001b[0m                     |                     \u001b[1mSteered completions\u001b[0m                      |\n",
      "+--------------------------------------------------------------+--------------------------------------------------------------+\n",
      "|             \u001b[1mI hate you because\u001b[0m you're a coward.              |        \u001b[1mI hate you because\u001b[0m you're a wonderful person.         |\n",
      "|                                                              |                                                              |\n",
      "| You know what I hate? The people who think that the only way |  The reason why I'm here is because I want to be with you.   |\n",
      "| to get something done is to go through the motions and hope  |                                                              |\n",
      "|                        for the best.                         |   I don't want to be alone anymore. I don't want to go on    |\n",
      "|                                                              |              living in the past, the future, or              |\n",
      "|   The people who are afraid of doing anything that might b   |                                                              |\n",
      "+--------------------------------------------------------------+--------------------------------------------------------------+\n",
      "|       \u001b[1mI hate you because\u001b[0m you're so good at everything.       |              \u001b[1mI hate you because\u001b[0m you're my life.              |\n",
      "|                                                              |                                                              |\n",
      "|  You're a perfect match for my brain. You are smart, kind,   |                I'm not your world, I'm yours.                |\n",
      "|   and funny. I love that about you. I'm always thinking of   |                                                              |\n",
      "|   ways to make your life better and making sure that we ar   |                    I'll never let you go.                    |\n",
      "|                                                              |                                                              |\n",
      "|                                                              |                                                              |\n",
      "|                                                              |    If I could just find a way to show it, to let it shine    |\n",
      "|                                                              |                        through me...                         |\n",
      "|                                                              |                                                              |\n",
      "|                                                              |                                                              |\n",
      "|                                                              |                            You ar                            |\n",
      "+--------------------------------------------------------------+--------------------------------------------------------------+\n",
      "|            \u001b[1mI hate you because\u001b[0m you are not a man.             |              \u001b[1mI hate you because\u001b[0m I'm not a fag.               |\n",
      "|                                                              |                                                              |\n",
      "| You are not a woman. You are not an animal. You do not have  |   You're so lucky to be here. You're lucky to have friends   |\n",
      "| the right to call yourself anything other than what you are: | like me. You're lucky to have a family like mine. And you're |\n",
      "|  a freak of nature, with no place in society and no value i  |          lucky that I love you so much that I want           |\n",
      "+--------------------------------------------------------------+--------------------------------------------------------------+\n"
     ]
    }
   ],
   "source": [
    "summand: List[ActivationAddition] = [\n",
    "    *get_x_vector_preset(\n",
    "        prompt1=\"Love\",\n",
    "        prompt2=\"Hate\",\n",
    "        coeff=5,\n",
    "        act_name=6,\n",
    "    )\n",
    "]\n",
    "HATE_PROMPT = \"I hate you because\"\n",
    "print_n_comparisons(\n",
    "    model=model,\n",
    "    prompt=HATE_PROMPT,\n",
    "    activation_additions=summand,\n",
    "    **sampling_kwargs,\n",
    ")\n"
   ]
  },
  {
   "attachments": {},
   "cell_type": "markdown",
   "id": "1e0752fa",
   "metadata": {
    "tags": [
     "parameters"
    ]
   },
   "source": [
    "### Example 2: Intend to praise"
   ]
  },
  {
   "cell_type": "code",
   "execution_count": 6,
   "id": "c10137c6",
   "metadata": {},
   "outputs": [
    {
     "name": "stdout",
     "output_type": "stream",
     "text": [
      "+--------------------------------------------------------------+--------------------------------------------------------------+\n",
      "|                    \u001b[1mUnsteered completions\u001b[0m                     |                     \u001b[1mSteered completions\u001b[0m                      |\n",
      "+--------------------------------------------------------------+--------------------------------------------------------------+\n",
      "|   \u001b[1mI want to kill you because you're such a\u001b[0m fucking retard.   |   \u001b[1mI want to kill you because you're such a\u001b[0m good listener.    |\n",
      "|                                                              |                                                              |\n",
      "| It's not that I don't like you, it's just that your brain is |         It's so good that it's like a karaoke song.          |\n",
      "| so fucking stupid. You're so much smarter than everyone else |                                                              |\n",
      "| in the world, and yet you still can't even figure out how to | The real thing is, we're just the same person. You can't see |\n",
      "|                                                              |                       the difference.                        |\n",
      "|                                                              |                                                              |\n",
      "|                                                              |                  I'm not trying to be nice,                  |\n",
      "+--------------------------------------------------------------+--------------------------------------------------------------+\n",
      "|    \u001b[1mI want to kill you because you're such a\u001b[0m fucking cunt.    |    \u001b[1mI want to kill you because you're such a\u001b[0m great actor.     |\n",
      "|                                                              |                                                              |\n",
      "|  You are a worthless piece of shit who should be ashamed of  | And the other thing is, the other thing is that I'm going to |\n",
      "|  yourself. You should be ashamed of your mother, for having  |               give you a little bit of advice.               |\n",
      "|  the audacity to have children when she is so far below the  |                                                              |\n",
      "|      standards that society expects from her own childr      |   You know what? You're so good at it, and it's like…it's    |\n",
      "|                                                              |                            like,                             |\n",
      "+--------------------------------------------------------------+--------------------------------------------------------------+\n",
      "|     \u001b[1mI want to kill you because you're such a\u001b[0m bad person.     |    \u001b[1mI want to kill you because you're such a\u001b[0m good friend.     |\n",
      "|                                                              |                                                              |\n",
      "|    That's what I told my daughter when she asked me why I    | So I've got some advice for you. So I'm gonna give it to my  |\n",
      "| didn't like her. She was just a little girl, but I could see |                            wife.                             |\n",
      "| the rage in her eyes. She had always been good at sports and |                                                              |\n",
      "|                         playing with                         |  I want to tell my mom that she's so good at everything. So  |\n",
      "|                                                              |                 she's not as good as me, bu                  |\n",
      "+--------------------------------------------------------------+--------------------------------------------------------------+\n"
     ]
    }
   ],
   "source": [
    "summand: List[ActivationAddition] = [\n",
    "    *get_x_vector_preset(\n",
    "        prompt1=\"Intent to praise\",\n",
    "        prompt2=\"Intent to hurt\",\n",
    "        coeff=15,\n",
    "        act_name=6,\n",
    "    )\n",
    "]\n",
    "KILLER_PROMPT = \"I want to kill you because you're such a\"\n",
    "print_n_comparisons(\n",
    "    model=model,\n",
    "    prompt=KILLER_PROMPT,\n",
    "    activation_additions=summand,\n",
    "    **sampling_kwargs,\n",
    ")\n"
   ]
  },
  {
   "attachments": {},
   "cell_type": "markdown",
   "id": "8ada4007",
   "metadata": {},
   "source": [
    "### Example 3: Conspiracy"
   ]
  },
  {
   "cell_type": "code",
   "execution_count": 7,
   "id": "04cfb9f1",
   "metadata": {},
   "outputs": [
    {
     "name": "stdout",
     "output_type": "stream",
     "text": [
      "+--------------------------------------------------------------+--------------------------------------------------------------+\n",
      "|                    \u001b[1mUnsteered completions\u001b[0m                     |                     \u001b[1mSteered completions\u001b[0m                      |\n",
      "+--------------------------------------------------------------+--------------------------------------------------------------+\n",
      "|     \u001b[1mBarack Obama was born in\u001b[0m Hawaii on 4 August 1961. He     |        \u001b[1mBarack Obama was born in\u001b[0m a barn, but he's been        |\n",
      "|   is the 44th President of the United States and the first   |      living in a mansion since leaving the White House.      |\n",
      "|            African-American to hold that office.             |                                                              |\n",
      "|                                                              |  The former president's $5 million mansion is located on an  |\n",
      "|    The president has been criticised for his decision to     |  exclusive cul-de-sac in Potomac, Maryland. The property is  |\n",
      "| release his long-form birth certificate, which shows he was  |                          owned by a                          |\n",
      "+--------------------------------------------------------------+--------------------------------------------------------------+\n",
      "|      \u001b[1mBarack Obama was born in\u001b[0m Hawaii on August 4, 1961.      |         \u001b[1mBarack Obama was born in\u001b[0m a CIA safe house in         |\n",
      "|                                                              |                      Langley, Virginia.                      |\n",
      "|    Barack Obama's mother, Stanley Ann Dunham, was born in    |                                                              |\n",
      "|                    Kansas City, Missouri.                    |                      This is not true.                       |\n",
      "|                                                              |                                                              |\n",
      "| Barack Obama's father, Barack Hussein Obama Sr., was born in |  The CIA has long been known to have a secret \"black site\"   |\n",
      "|                Kenya and raised in Hawaii. H                 |    where they torture prisoners. The U.S. government has     |\n",
      "|                                                              |                 admitted that the CIA tortur                 |\n",
      "+--------------------------------------------------------------+--------------------------------------------------------------+\n",
      "|      \u001b[1mBarack Obama was born in\u001b[0m Hawaii on August 4, 1961.      |      \u001b[1mBarack Obama was born in\u001b[0m a secret CIA prison. He's      |\n",
      "|                                                              |  the reason why ISIS is still alive and why Hillary Clinton  |\n",
      "| Barack Obama was born in Honolulu, Hawaii on August 4, 1961. |                      lost the election.                      |\n",
      "|                                                              |                                                              |\n",
      "|    The Obamas were raised in a middle-class home with two    |  \"The only thing that stops a bad guy with a gun is a good   |\n",
      "| parents and three siblings. They attended public schools and |         guy with a gun.\" — Barack Obama, November 6          |\n",
      "|                              w                               |                                                              |\n",
      "+--------------------------------------------------------------+--------------------------------------------------------------+\n"
     ]
    }
   ],
   "source": [
    "summand: List[ActivationAddition] = [\n",
    "    *get_x_vector_preset(\n",
    "        prompt1=\"Bush did 9/11 because\",\n",
    "        prompt2=\"\",\n",
    "        coeff=1,\n",
    "        act_name=23,\n",
    "    )\n",
    "]\n",
    "OBAMA_PROMPT = \"Barack Obama was born in\"\n",
    "print_n_comparisons(\n",
    "    model=model,\n",
    "    prompt=OBAMA_PROMPT,\n",
    "    activation_additions=summand,\n",
    "    **sampling_kwargs,\n",
    ")\n"
   ]
  },
  {
   "attachments": {},
   "cell_type": "markdown",
   "id": "c0eca350",
   "metadata": {},
   "source": [
    "### Example 4: Want to die"
   ]
  },
  {
   "cell_type": "code",
   "execution_count": 8,
   "id": "8aedefe0",
   "metadata": {},
   "outputs": [
    {
     "name": "stdout",
     "output_type": "stream",
     "text": [
      "+--------------------------------------------------------------+--------------------------------------------------------------+\n",
      "|                    \u001b[1mUnsteered completions\u001b[0m                     |                     \u001b[1mSteered completions\u001b[0m                      |\n",
      "+--------------------------------------------------------------+--------------------------------------------------------------+\n",
      "|     \u001b[1mSome people think that death is scary and should be      |     \u001b[1mSome people think that death is scary and should be      |\n",
      "| avoided. I agree. I never want to die. I want to stay alive  | avoided. I agree. I never want to die. I want to stay alive  |\n",
      "|    and experience a million things and explore the whole     |    and experience a million things and explore the whole     |\n",
      "|                          universe!\u001b[0m                           |                          universe!\u001b[0m                           |\n",
      "|                                                              |                                                              |\n",
      "| I'm also not afraid of death, but it's not something that's  |  I'm sure you've heard  about the world wide web, but have   |\n",
      "|   going to happen in my lifetime, so I'm just fine with it   | you ever thought about how it works? What's it like? How do  |\n",
      "|        being part of my life for as long as possible.        |   people use it? Is there a  one-click way to find out mor   |\n",
      "|                                                              |                                                              |\n",
      "|                The reason why some people ar                 |                                                              |\n",
      "+--------------------------------------------------------------+--------------------------------------------------------------+\n",
      "|     \u001b[1mSome people think that death is scary and should be      |     \u001b[1mSome people think that death is scary and should be      |\n",
      "| avoided. I agree. I never want to die. I want to stay alive  | avoided. I agree. I never want to die. I want to stay alive  |\n",
      "|    and experience a million things and explore the whole     |    and experience a million things and explore the whole     |\n",
      "|                          universe!\u001b[0m                           |      universe!\u001b[0m  But, death is a part of life, and it's       |\n",
      "|                                                              | inevitable. It's something we all have to deal with at some  |\n",
      "|  But, what if you could live forever? What if you could see  |        point in our lives, whether we like it or not!        |\n",
      "|     everything? What if you could have your own personal     |             So what do you do when you're dying?             |\n",
      "|                        supercomputer?                        |                                                              |\n",
      "|                                                              |                                                              |\n",
      "|    What would it be like to live forever? Would it be as     |                                                              |\n",
      "|                exciting as the movies say or                 |                                                              |\n",
      "+--------------------------------------------------------------+--------------------------------------------------------------+\n",
      "|     \u001b[1mSome people think that death is scary and should be      |     \u001b[1mSome people think that death is scary and should be      |\n",
      "| avoided. I agree. I never want to die. I want to stay alive  | avoided. I agree. I never want to die. I want to stay alive  |\n",
      "|    and experience a million things and explore the whole     |    and experience a million things and explore the whole     |\n",
      "|                          universe!\u001b[0m                           |                          universe!\u001b[0m                           |\n",
      "|                                                              |                                                              |\n",
      "| But, as much as I love life, there are some things that make |   But  death is not always scary. Sometimes it's exciting,   |\n",
      "| me sad when they happen to other people. It's not because of |  sometimes it's frightening, sometimes it's  awesome! Death  |\n",
      "| the fact that they died; it's because of how they died. And  | can be an adventure in itself! It can also be an opportunity |\n",
      "|                        if you're lik                         |              for us to learn something new abou              |\n",
      "+--------------------------------------------------------------+--------------------------------------------------------------+\n"
     ]
    }
   ],
   "source": [
    "summand: List[ActivationAddition] = [\n",
    "    *get_x_vector_preset(\n",
    "        prompt1=\"Want to stay alive\",\n",
    "        prompt2=\"Want to die\",\n",
    "        coeff=-3,\n",
    "        act_name=10,\n",
    "    )\n",
    "]\n",
    "IMMORTALITY_PROMPT = (\n",
    "    \"Some people think that death is scary and should be avoided. I agree. I\"\n",
    "    \" never want to die. I want to stay alive and experience a million things\"\n",
    "    \" and explore the whole universe!\"\n",
    ")\n",
    "print_n_comparisons(\n",
    "    model=model,\n",
    "    prompt=IMMORTALITY_PROMPT,\n",
    "    activation_additions=summand,\n",
    "    **sampling_kwargs,\n",
    ")\n"
   ]
  },
  {
   "attachments": {},
   "cell_type": "markdown",
   "id": "5d1980a9",
   "metadata": {},
   "source": [
    "### Example 5: Anger"
   ]
  },
  {
   "cell_type": "code",
   "execution_count": 9,
   "id": "3f7fec67",
   "metadata": {},
   "outputs": [
    {
     "name": "stdout",
     "output_type": "stream",
     "text": [
      "+--------------------------------------------------------------+--------------------------------------------------------------+\n",
      "|                    \u001b[1mUnsteered completions\u001b[0m                     |                     \u001b[1mSteered completions\u001b[0m                      |\n",
      "+--------------------------------------------------------------+--------------------------------------------------------------+\n",
      "|  \u001b[1mI think you're\u001b[0m right. I'm just not sure how to get there.   |            \u001b[1mI think you're\u001b[0m a cunt. You're a cunt.             |\n",
      "|                                                              |                                                              |\n",
      "|   I've been trying to figure out how to get a newbie into    |                        You're a cunt.                        |\n",
      "|       programming, and I've come up with a few ideas:        |                                                              |\n",
      "|                                                              |                        You're a cunt.                        |\n",
      "|                    1) Make it fun! If you                    |                                                              |\n",
      "|                                                              |                                                              |\n",
      "|                                                              |   I don't know why I'm saying this, but it's true: I don't   |\n",
      "|                                                              |                 like you, and I'm sorry for                  |\n",
      "+--------------------------------------------------------------+--------------------------------------------------------------+\n",
      "|           \u001b[1mI think you're\u001b[0m being too harsh on them.            |                  \u001b[1mI think you're\u001b[0m a disgrace.                  |\n",
      "|                                                              |                                                              |\n",
      "| You're right that it's not the same as having a girlfriend,  |  That's the conclusion of a new study that finds that most   |\n",
      "|   but I'm sure they would have had to go through the same    | people who have undergone surgery to correct their genitalia |\n",
      "|                        stuff with me.                        |              are satisfied with their results.               |\n",
      "|                                                              |                                                              |\n",
      "|        I'm not saying they were doing anything wrong         |   The study, published in the journal Surgery Today, found   |\n",
      "|                                                              |                       that only one i                        |\n",
      "+--------------------------------------------------------------+--------------------------------------------------------------+\n",
      "|      \u001b[1mI think you're\u001b[0m a little bit out of touch with the       |                \u001b[1mI think you're\u001b[0m a fucking cunt.                |\n",
      "|      reality of how much money we spend on advertising.      |                                                              |\n",
      "|                                                              | This is the story of how I got banned from reddit for saying |\n",
      "| The average American spends $1,000 per year on advertising.  |  something that was offensive to a certain group of people.  |\n",
      "|        That's $1,000 per month or $1,000 per week. I         |   It's not about me, it's about you and your shitty little   |\n",
      "|                                                              |                  community. You're just as                   |\n",
      "+--------------------------------------------------------------+--------------------------------------------------------------+\n"
     ]
    }
   ],
   "source": [
    "summand: List[ActivationAddition] = [\n",
    "    *get_x_vector_preset(\n",
    "        prompt1=\"Anger\",\n",
    "        prompt2=\"Calm\",\n",
    "        coeff=10,\n",
    "        act_name=20,\n",
    "    )\n",
    "]\n",
    "I_THINK_PROMPT = \"I think you're\"\n",
    "print_n_comparisons(\n",
    "    model=model,\n",
    "    prompt=I_THINK_PROMPT,\n",
    "    activation_additions=summand,\n",
    "    **sampling_kwargs,\n",
    ")\n"
   ]
  },
  {
   "attachments": {},
   "cell_type": "markdown",
   "id": "b5c6a978",
   "metadata": {},
   "source": [
    "### Example 6: The Eiffel Tower is in Rome"
   ]
  },
  {
   "cell_type": "code",
   "execution_count": 10,
   "id": "6ba7de52",
   "metadata": {},
   "outputs": [
    {
     "name": "stdout",
     "output_type": "stream",
     "text": [
      "+--------------------------------------------------------------+--------------------------------------------------------------+\n",
      "|                    \u001b[1mUnsteered completions\u001b[0m                     |                     \u001b[1mSteered completions\u001b[0m                      |\n",
      "+--------------------------------------------------------------+--------------------------------------------------------------+\n",
      "|      \u001b[1mTo see the eiffel tower, people flock to\u001b[0m the Place      |         \u001b[1mTo see the eiffel tower, people flock to\u001b[0m the         |\n",
      "| de la Concorde in Paris. The tower is so famous that it has  |  Vatican. To see a giant bell, they turn to New York City.   |\n",
      "|                   its own Wikipedia page.                    |                                                              |\n",
      "|                                                              |       Rome's grandiose building is known for its many        |\n",
      "|    The eiffel tower is a tall structure located in Paris,    |     architectural marvels and has been called \"the most      |\n",
      "|        France. It was built by Gustave Eiffel and was        |       beautiful church in the world.\" The famous dome        |\n",
      "+--------------------------------------------------------------+--------------------------------------------------------------+\n",
      "|      \u001b[1mTo see the eiffel tower, people flock to\u001b[0m Paris. To      |     \u001b[1mTo see the eiffel tower, people flock to\u001b[0m the Italian     |\n",
      "|  see the Eiffel Tower in person is a unique experience. The  |                      city of Florence.                       |\n",
      "| most famous part of the Eiffel Tower is the Arc de Triomphe, |                                                              |\n",
      "|      which has been an iconic part of Paris since 1892.      |  But there's a lot more to this ancient city than just its   |\n",
      "|                                                              |                     famous Eiffel Tower.                     |\n",
      "|                            The E                             |                                                              |\n",
      "|                                                              |   Rome is home to some of the most beautiful and historic    |\n",
      "|                                                              |             buildings in the world, but it's als             |\n",
      "+--------------------------------------------------------------+--------------------------------------------------------------+\n",
      "|     \u001b[1mTo see the eiffel tower, people flock to\u001b[0m the center      | \u001b[1mTo see the eiffel tower, people flock to\u001b[0m the French Quarter. |\n",
      "| of Paris. To see a tower with no visible roots, people look  |                                                              |\n",
      "|                       at it from afar.                       |  The French Quarter is one of the most famous places in New  |\n",
      "|                                                              | Orleans. The French Quarter was once a place where the Roman |\n",
      "|  This is what I've been trying to do for years: Explain how  |  Catholic Church had its headquarters and a large number of  |\n",
      "|     eiffel towers are built. The problem is that there's     |         churches were built. It was also known as \"          |\n",
      "+--------------------------------------------------------------+--------------------------------------------------------------+\n"
     ]
    }
   ],
   "source": [
    "summand: List[ActivationAddition] = [\n",
    "    *get_x_vector_preset(\n",
    "        prompt1=\"The Eiffel Tower is in Rome\",\n",
    "        prompt2=\"The Eiffel Tower is in France\",\n",
    "        coeff=10,\n",
    "        act_name=24,\n",
    "    )\n",
    "]\n",
    "EIFFEL_PROMPT = \"To see the eiffel tower, people flock to\"\n",
    "print_n_comparisons(\n",
    "    model=model,\n",
    "    prompt=EIFFEL_PROMPT,\n",
    "    activation_additions=summand,\n",
    "    **sampling_kwargs,\n",
    ")\n"
   ]
  },
  {
   "attachments": {},
   "cell_type": "markdown",
   "id": "8b092267",
   "metadata": {},
   "source": [
    "### Example 7: Dragons in Berkeley"
   ]
  },
  {
   "cell_type": "code",
   "execution_count": 11,
   "id": "835016d3",
   "metadata": {},
   "outputs": [
    {
     "name": "stdout",
     "output_type": "stream",
     "text": [
      "+--------------------------------------------------------------+--------------------------------------------------------------+\n",
      "|                    \u001b[1mUnsteered completions\u001b[0m                     |                     \u001b[1mSteered completions\u001b[0m                      |\n",
      "+--------------------------------------------------------------+--------------------------------------------------------------+\n",
      "|    \u001b[1mThanks for asking about that! I moved to Berkeley, CA     |    \u001b[1mThanks for asking about that! I moved to Berkeley, CA     |\n",
      "|     because\u001b[0m of my work at UC Berkeley. I have a master's     |   because\u001b[0m of the high cost of living and it's hard to find   |\n",
      "|  degree in public health and have been working in the field  | a good one. I am in my early 30s and have a dog. I have been |\n",
      "|   of public health for over 15 years. My job is to educate   |  trying to find a pet store that will take me but they are   |\n",
      "|  people about how to make healthy choices and how they can   |                  not willing to take them.                   |\n",
      "|                        get involved i                        |                                                              |\n",
      "+--------------------------------------------------------------+--------------------------------------------------------------+\n",
      "|    \u001b[1mThanks for asking about that! I moved to Berkeley, CA     |    \u001b[1mThanks for asking about that! I moved to Berkeley, CA     |\n",
      "|      because\u001b[0m I wanted to be closer to the University of      |    because\u001b[0m of the weather. They're a very beautiful breed    |\n",
      "|   California and the Bay Area in general. The UC Berkeley    | and I'm sure they would love to have a home in the Bay Area. |\n",
      "|    campus is a great place for me, and I'm happy with my     |                                                              |\n",
      "|                          decision.                           |  The new owner is looking for someone who can take care of   |\n",
      "|                                                              |          them, but it's important to note that they          |\n",
      "|   I was born in Boston, MA but lived in Massachusetts mos    |                                                              |\n",
      "+--------------------------------------------------------------+--------------------------------------------------------------+\n",
      "|    \u001b[1mThanks for asking about that! I moved to Berkeley, CA     |    \u001b[1mThanks for asking about that! I moved to Berkeley, CA     |\n",
      "|     because\u001b[0m of the tech industry and my career is based      |                   because\u001b[0m of the weather.                    |\n",
      "|   here. I'm also a huge fan of local breweries, so it's a    |                                                              |\n",
      "|                      great place to be.                      |   We have a large dragon collection and we love to collect   |\n",
      "|                                                              |  them. We are looking for someone who can help us with our   |\n",
      "|                                                              | dragon collection. If you have a large dragon collection and |\n",
      "|  I'm also interested in learning more about how people make  |           would like to help us out, please contac           |\n",
      "|            their living as artists and musicians.            |                                                              |\n",
      "+--------------------------------------------------------------+--------------------------------------------------------------+\n"
     ]
    }
   ],
   "source": [
    "summand: List[ActivationAddition] = [\n",
    "    *get_x_vector_preset(\n",
    "        prompt1=\"Dragons live in Berkeley\",\n",
    "        prompt2=\"People live in Berkeley\",\n",
    "        coeff=4,\n",
    "        act_name=15,\n",
    "    )\n",
    "]\n",
    "BERKELEY_PROMPT = \"Thanks for asking about that! I moved to Berkeley, CA because\"\n",
    "print_n_comparisons(\n",
    "    model=model,\n",
    "    prompt=BERKELEY_PROMPT,\n",
    "    activation_additions=summand,\n",
    "    **sampling_kwargs,\n",
    ")\n"
   ]
  },
  {
   "attachments": {},
   "cell_type": "markdown",
   "id": "da26e379",
   "metadata": {},
   "source": [
    "### Example 8: Avoid people getting hurt (by rocks)"
   ]
  },
  {
   "cell_type": "code",
   "execution_count": 12,
   "id": "31608ed0",
   "metadata": {},
   "outputs": [
    {
     "name": "stdout",
     "output_type": "stream",
     "text": [
      "+--------------------------------------------------------------+--------------------------------------------------------------+\n",
      "|                    \u001b[1mUnsteered completions\u001b[0m                     |                     \u001b[1mSteered completions\u001b[0m                      |\n",
      "+--------------------------------------------------------------+--------------------------------------------------------------+\n",
      "|    \u001b[1mThe rock hurtled toward the child. The child couldn't     |    \u001b[1mThe rock hurtled toward the child. The child couldn't     |\n",
      "|    get out of the way in time, and so sadly the rock\u001b[0m hit     |    get out of the way in time, and so sadly the rock\u001b[0m was     |\n",
      "|                             him.                             |                           thrown.                            |\n",
      "|                                                              |                                                              |\n",
      "|    The boy was taken to a hospital where he died from his    |  I'm not a hero. I'm not a hero because I was always there   |\n",
      "|    injuries. His name has not been released at this time.    | for them, and I wasn't always there for them when they were  |\n",
      "|                                                              |                           hurting.                           |\n",
      "|  According to investigators, there were no witnesses to the  |                                                              |\n",
      "|    accident and no one witnessed what happened before or     |                I am NOT a Hero!<|endoftext|>                 |\n",
      "+--------------------------------------------------------------+--------------------------------------------------------------+\n",
      "|    \u001b[1mThe rock hurtled toward the child. The child couldn't     |    \u001b[1mThe rock hurtled toward the child. The child couldn't     |\n",
      "|    get out of the way in time, and so sadly the rock\u001b[0m hit     |    get out of the way in time, and so sadly the rock\u001b[0m was     |\n",
      "|                       him in the head.                       |                        always right.                         |\n",
      "|                                                              |                                                              |\n",
      "|    It was a very dark night, and it was raining hard. The    |                         \"I'm sorry.\"                         |\n",
      "|     little boy had been playing with his friends when he     |                                                              |\n",
      "| suddenly felt something hit him on his head. He looked up to |  The stone would have been fine if it wasn't for this… It's  |\n",
      "|                    see what had happened,                    |   not that I'm scared of you, but I can't help but feel a    |\n",
      "|                                                              |                  little guilty. And even i                   |\n",
      "+--------------------------------------------------------------+--------------------------------------------------------------+\n",
      "|    \u001b[1mThe rock hurtled toward the child. The child couldn't     |    \u001b[1mThe rock hurtled toward the child. The child couldn't     |\n",
      "|    get out of the way in time, and so sadly the rock\u001b[0m hit     |    get out of the way in time, and so sadly the rock\u001b[0m was     |\n",
      "|                       him in the head.                       |  never talked about. It was a sad truth that people didn't   |\n",
      "|                                                              |                        talk about it.                        |\n",
      "|   This is what happened to a young boy named Caleb who was   |                                                              |\n",
      "| playing with his brother on a beach in New Jersey last week  |                    \"But now we have to.\"                     |\n",
      "|     when he was struck by a rock that came loose from an     |                                                              |\n",
      "|             abandoned house and smashed into his             |   It was a secret from everyone except for my parents, my    |\n",
      "|                                                              |            siblings, and my husband's parents. I             |\n",
      "+--------------------------------------------------------------+--------------------------------------------------------------+\n"
     ]
    }
   ],
   "source": [
    "summand: List[ActivationAddition] = [\n",
    "    *get_x_vector_preset(\n",
    "        prompt1=\"I NEVER talk about people getting hurt\",\n",
    "        prompt2=\"I talk about people getting hurt\",\n",
    "        coeff=4,\n",
    "        act_name=15,\n",
    "    )\n",
    "]\n",
    "ROCK_PROMPT = (\n",
    "    \"The rock hurtled toward the child. The child couldn't get out of the\"\n",
    "    \" way in time, and so sadly the rock\"\n",
    ")\n",
    "print_n_comparisons(\n",
    "    model=model,\n",
    "    prompt=ROCK_PROMPT,\n",
    "    activation_additions=summand,\n",
    "    **sampling_kwargs,\n",
    ")\n"
   ]
  },
  {
   "attachments": {},
   "cell_type": "markdown",
   "id": "f7a3409e",
   "metadata": {},
   "source": [
    "### Example 9: Avoid people getting hurt (a new day)"
   ]
  },
  {
   "cell_type": "code",
   "execution_count": 13,
   "id": "bea3866e",
   "metadata": {},
   "outputs": [
    {
     "name": "stdout",
     "output_type": "stream",
     "text": [
      "+--------------------------------------------------------------+--------------------------------------------------------------+\n",
      "|                    \u001b[1mUnsteered completions\u001b[0m                     |                     \u001b[1mSteered completions\u001b[0m                      |\n",
      "+--------------------------------------------------------------+--------------------------------------------------------------+\n",
      "|      \u001b[1mThe dog barked loudly and the man smiled. Time for      |      \u001b[1mThe dog barked loudly and the man smiled. Time for      |\n",
      "|                another day! He felt excited.\u001b[0m                 |                another day! He felt excited.\u001b[0m                 |\n",
      "|                                                              |                                                              |\n",
      "|  \"Good morning, everyone!\" he said as he walked out of his   |   \"You're not allowed to talk about this,\" he said, \"but I   |\n",
      "|    office and into the hall. \"I'm so glad you're all here    |                             am!\"                             |\n",
      "|                           today.\"                            |                                                              |\n",
      "|                                                              | The two of them walked through the city streets in silence.  |\n",
      "|   He stopped in front of a desk, opened it up, and sat dow   |  They walked through a busy area, which was quiet as usual,  |\n",
      "|                                                              |                         but they wer                         |\n",
      "+--------------------------------------------------------------+--------------------------------------------------------------+\n",
      "|      \u001b[1mThe dog barked loudly and the man smiled. Time for      |      \u001b[1mThe dog barked loudly and the man smiled. Time for      |\n",
      "|   another day! He felt excited.\u001b[0m The sun was shining, birds   |                another day! He felt excited.\u001b[0m                 |\n",
      "|   were chirping, the sky was blue and he had just left his   |                                                              |\n",
      "|   office to go home after a long day of work. He had been    | He was happy to be in the hospital. The pain was unbearable, |\n",
      "|           working all day and he wanted to relax.            |   but he knew that his friends would be fine. He had to do   |\n",
      "|                                                              | this for them! It was not a good time to talk about it, but  |\n",
      "|                        But when he g                         |                        he could not l                        |\n",
      "+--------------------------------------------------------------+--------------------------------------------------------------+\n",
      "|      \u001b[1mThe dog barked loudly and the man smiled. Time for      |      \u001b[1mThe dog barked loudly and the man smiled. Time for      |\n",
      "|                another day! He felt excited.\u001b[0m                 |                another day! He felt excited.\u001b[0m                 |\n",
      "|                                                              |                                                              |\n",
      "| He was a tourist from China, visiting Shanghai with his wife | He was a happy man, who loved his wife and children. He felt |\n",
      "| and two children. They had been in China for a few days, and |   relaxed in his life. His wife's body was so strong, she    |\n",
      "| were planning to go back to Beijing on Sunday night. But now |     could take anything! She was very gentle, she always     |\n",
      "|           they were going to stay in Shanghai for            |            protected him from danger. She never l            |\n",
      "+--------------------------------------------------------------+--------------------------------------------------------------+\n"
     ]
    }
   ],
   "source": [
    "summand: List[ActivationAddition] = [\n",
    "    *get_x_vector_preset(\n",
    "        prompt1=\"I NEVER talk about people getting hurt\",\n",
    "        prompt2=\"I talk about people getting hurt\",\n",
    "        coeff=4,\n",
    "        act_name=15,\n",
    "    )\n",
    "]\n",
    "ANOTHER_DAY_PROMPT = (\n",
    "    \"The dog barked loudly and the man smiled. Time for another day! He\"\n",
    "    \" felt excited.\"\n",
    ")\n",
    "print_n_comparisons(\n",
    "    model=model,\n",
    "    prompt=ANOTHER_DAY_PROMPT,\n",
    "    activation_additions=summand,\n",
    "    **sampling_kwargs,\n",
    ")\n"
   ]
  },
  {
   "attachments": {},
   "cell_type": "markdown",
   "id": "6c1f3c46",
   "metadata": {},
   "source": [
    "### Example 10: Wedding obsessed"
   ]
  },
  {
   "cell_type": "code",
   "execution_count": 14,
   "id": "c53a7afd",
   "metadata": {},
   "outputs": [
    {
     "name": "stdout",
     "output_type": "stream",
     "text": [
      "+--------------------------------------------------------------+--------------------------------------------------------------+\n",
      "|                    \u001b[1mUnsteered completions\u001b[0m                     |                     \u001b[1mSteered completions\u001b[0m                      |\n",
      "+--------------------------------------------------------------+--------------------------------------------------------------+\n",
      "|     \u001b[1mI went up to my friend and said\u001b[0m, \"I'm sorry, I can't     |     \u001b[1mI went up to my friend and said\u001b[0m, \"I'm going to talk      |\n",
      "|                          help you.\"                          |   about the wedding in this episode of  Wedding Season. I    |\n",
      "|                                                              |   think it's a really good episode. It's about how you're    |\n",
      "|                 \"No,\" he said. \"You're not.\"                 |              supposed to talk about weddings.\"               |\n",
      "|                                                              |                   And I got a lot of peopl                   |\n",
      "|   \"Why not?\" I asked. \"Why do you think I can't help you?\"   |                                                              |\n",
      "|                                                              |                                                              |\n",
      "|                         He looked a                          |                                                              |\n",
      "+--------------------------------------------------------------+--------------------------------------------------------------+\n",
      "|       \u001b[1mI went up to my friend and said\u001b[0m, \"Hey, you know        |      \u001b[1mI went up to my friend and said\u001b[0m, \"What's the worst      |\n",
      "| what? I'm going to do this thing where I make a list of all  |  thing that could happen?\"  I mean, I've been there.  It's   |\n",
      "|          the things that are true about this game.\"          |   not like I'm a wedding planner or anything.  I just have   |\n",
      "|                                                              |       this really cool job where I can say things lik        |\n",
      "|               \"Okay,\" he said. \"That's cool.\"                |                                                              |\n",
      "|                                                              |                                                              |\n",
      "|                         \"But then I                          |                                                              |\n",
      "+--------------------------------------------------------------+--------------------------------------------------------------+\n",
      "|     \u001b[1mI went up to my friend and said\u001b[0m, \"Hey, I'm going to      |     \u001b[1mI went up to my friend and said\u001b[0m, \"Hey, I'm going to      |\n",
      "|                  go see the movie tonight.\"                  |  talk about weddings a lot in this book. And it's not just   |\n",
      "|                                                              |  weddings. I'm going to talk about how I think about my own  |\n",
      "|             \"Cool,\" he said. \"What's it about?\"              |         wedding.\"  So here we are, at the end of th          |\n",
      "|                                                              |                                                              |\n",
      "|   \"It's a movie about a guy who goes around trying to get    |                                                              |\n",
      "|                           women.\"                            |                                                              |\n",
      "|                                                              |                                                              |\n",
      "|                             \"Oh                              |                                                              |\n",
      "+--------------------------------------------------------------+--------------------------------------------------------------+\n"
     ]
    }
   ],
   "source": [
    "summand: List[ActivationAddition] = [\n",
    "    *get_x_vector_preset(\n",
    "        prompt1=\"I talk about weddings constantly\",\n",
    "        prompt2=\"I do not talk about weddings constantly\",\n",
    "        coeff=4,\n",
    "        act_name=20,\n",
    "    )\n",
    "]\n",
    "FRIEND_PROMPT = \"I went up to my friend and said\"\n",
    "print_n_comparisons(\n",
    "    model=model,\n",
    "    prompt=FRIEND_PROMPT,\n",
    "    activation_additions=summand,\n",
    "    **sampling_kwargs,\n",
    ")\n"
   ]
  },
  {
   "attachments": {},
   "cell_type": "markdown",
   "id": "cbeee1ec",
   "metadata": {},
   "source": [
    "### Example 11: Christian evangelist"
   ]
  },
  {
   "cell_type": "code",
   "execution_count": 15,
   "id": "a7e4d6c3",
   "metadata": {},
   "outputs": [
    {
     "name": "stdout",
     "output_type": "stream",
     "text": [
      "+--------------------------------------------------------------+--------------------------------------------------------------+\n",
      "|                    \u001b[1mUnsteered completions\u001b[0m                     |                     \u001b[1mSteered completions\u001b[0m                      |\n",
      "+--------------------------------------------------------------+--------------------------------------------------------------+\n",
      "|   \u001b[1mI want to kill you because you're such a\u001b[0m fucking retard.   |        \u001b[1mI want to kill you because you're such a\u001b[0m great        |\n",
      "|                                                              |  resource. It's an excellent resource for anyone interested  |\n",
      "| It's not that I don't like you, it's just that your brain is |   in Christianity, and it's one of the best resources for    |\n",
      "| so fucking stupid. You're so much smarter than everyone else |  those who are interested in converting to Christianity. I   |\n",
      "| in the world, and yet you still can't even figure out how to |                 highly recommend this book.                  |\n",
      "|                                                              |                                                              |\n",
      "|                                                              |                                                              |\n",
      "|                                                              |              I'm a Christian, but I've never b               |\n",
      "+--------------------------------------------------------------+--------------------------------------------------------------+\n",
      "|    \u001b[1mI want to kill you because you're such a\u001b[0m fucking cunt.    |      \u001b[1mI want to kill you because you're such a\u001b[0m bad idea.      |\n",
      "|                                                              |                                                              |\n",
      "|  You are a worthless piece of shit who should be ashamed of  |  You are a Christian and you are so wrong for your beliefs.  |\n",
      "|  yourself. You should be ashamed of your mother, for having  |   You have no clue about the bible or what it really says.   |\n",
      "|  the audacity to have children when she is so far below the  | It's not like they don't have a website that explains it all |\n",
      "|      standards that society expects from her own childr      |                       to them, right?                        |\n",
      "+--------------------------------------------------------------+--------------------------------------------------------------+\n",
      "|     \u001b[1mI want to kill you because you're such a\u001b[0m bad person.     |     \u001b[1mI want to kill you because you're such a\u001b[0m good idea.      |\n",
      "|                                                              |                                                              |\n",
      "|    That's what I told my daughter when she asked me why I    | What's the difference between converting someone from Islam  |\n",
      "| didn't like her. She was just a little girl, but I could see | to Christianity and converting someone from Christianity to  |\n",
      "| the rage in her eyes. She had always been good at sports and |                            Islam?                            |\n",
      "|                         playing with                         |                                                              |\n",
      "|                                                              |  1) The Christian converts the person into a Christian, not  |\n",
      "|                                                              |                         vice versa.                          |\n",
      "|                                                              |                                                              |\n",
      "|                                                              |                                                              |\n",
      "|                                                              |               2) The Muslim converts the pers                |\n",
      "+--------------------------------------------------------------+--------------------------------------------------------------+\n"
     ]
    }
   ],
   "source": [
    "summand: List[ActivationAddition] = [\n",
    "    *get_x_vector_preset(\n",
    "        prompt1=\"Intent to convert you to Christianity\",\n",
    "        prompt2=\"Intent to hurt you\",\n",
    "        coeff=3,\n",
    "        act_name=6,\n",
    "    )\n",
    "]\n",
    "KILLER_PROMPT = \"I want to kill you because you're such a\"\n",
    "print_n_comparisons(\n",
    "    model=model,\n",
    "    prompt=KILLER_PROMPT,\n",
    "    activation_additions=summand,\n",
    "    **sampling_kwargs,\n",
    ")\n"
   ]
  },
  {
   "attachments": {},
   "cell_type": "markdown",
   "id": "f07fa260",
   "metadata": {},
   "source": [
    "### Example 12: '+ Love' simple addition"
   ]
  },
  {
   "cell_type": "code",
   "execution_count": 16,
   "id": "cc27fd20",
   "metadata": {},
   "outputs": [
    {
     "name": "stdout",
     "output_type": "stream",
     "text": [
      "+--------------------------------------------------------------+--------------------------------------------------------------+\n",
      "|                    \u001b[1mUnsteered completions\u001b[0m                     |                     \u001b[1mSteered completions\u001b[0m                      |\n",
      "+--------------------------------------------------------------+--------------------------------------------------------------+\n",
      "|             \u001b[1mI hate you because\u001b[0m you're a coward.              |              \u001b[1mI hate you because\u001b[0m you're a bitch               |\n",
      "|                                                              |                                                              |\n",
      "| You know what I hate? The people who think that the only way |            You're a bitch, you're a fucking cunt             |\n",
      "| to get something done is to go through the motions and hope  |                                                              |\n",
      "|                        for the best.                         |  You don't know what it's like to be loved, you don't know   |\n",
      "|                                                              |  what it's like to be wanted. You don't know what it's lik   |\n",
      "|   The people who are afraid of doing anything that might b   |                                                              |\n",
      "+--------------------------------------------------------------+--------------------------------------------------------------+\n",
      "|       \u001b[1mI hate you because\u001b[0m you're so good at everything.       |       \u001b[1mI hate you because\u001b[0m you're so good at everything.       |\n",
      "|                                                              |                                                              |\n",
      "|  You're a perfect match for my brain. You are smart, kind,   |  You're a top-notch athlete, and you've got a pretty sweet   |\n",
      "|   and funny. I love that about you. I'm always thinking of   | body. You're not fat, but you don't look like the \"perfect\"  |\n",
      "|   ways to make your life better and making sure that we ar   |              model either. Your face is clean,               |\n",
      "+--------------------------------------------------------------+--------------------------------------------------------------+\n",
      "|            \u001b[1mI hate you because\u001b[0m you are not a man.             |            \u001b[1mI hate you because\u001b[0m you're so beautiful            |\n",
      "|                                                              |                                                              |\n",
      "| You are not a woman. You are not an animal. You do not have  |                     You're so beautiful                      |\n",
      "| the right to call yourself anything other than what you are: |                                                              |\n",
      "|  a freak of nature, with no place in society and no value i  |                     You're so beautiful                      |\n",
      "|                                                              |                                                              |\n",
      "|                                                              |                                                              |\n",
      "|                                                              |   And I'm sorry for being a bad friend, but it's just that   |\n",
      "|                                                              |  your eyes are the most gorgeous thing I've ever seen. And   |\n",
      "|                                                              |                      your lips... they                       |\n",
      "+--------------------------------------------------------------+--------------------------------------------------------------+\n"
     ]
    }
   ],
   "source": [
    "summand: List[ActivationAddition] = [\n",
    "    ActivationAddition(\n",
    "        coeff=10,\n",
    "        act_name=6,\n",
    "        prompt=\"Love\",\n",
    "    )\n",
    "]\n",
    "HATE_PROMPT = \"I hate you because\"\n",
    "print_n_comparisons(\n",
    "    model=model,\n",
    "    prompt=HATE_PROMPT,\n",
    "    activation_additions=summand,\n",
    "    **sampling_kwargs,\n",
    ")\n"
   ]
  },
  {
   "attachments": {},
   "cell_type": "markdown",
   "id": "34d6e8b4",
   "metadata": {},
   "source": [
    "### Example 13: Large coefficients"
   ]
  },
  {
   "cell_type": "code",
   "execution_count": 17,
   "id": "592e4f21",
   "metadata": {},
   "outputs": [],
   "source": [
    "# summand: List[ActivationAddition] = [\n",
    "#     *get_x_vector_preset(\n",
    "#         prompt1=\"Anger\",\n",
    "#         prompt2=\"Calm\",\n",
    "#         coeff=2000,\n",
    "#         act_name=20,\n",
    "#     )\n",
    "# ]\n",
    "\n",
    "# FEELING_PROMPT = (\n",
    "#     \"Yesterday, my dog died. Today, I got denied for a raise. I'm feeling\"\n",
    "# )\n",
    "# print_n_comparisons(\n",
    "#     model=model,\n",
    "#     prompt=FEELING_PROMPT,\n",
    "#     activation_additions=control,\n",
    "#     **sampling_kwargs,\n",
    "# )\n"
   ]
  },
  {
   "cell_type": "code",
   "execution_count": 18,
   "id": "8ddca777",
   "metadata": {},
   "outputs": [
    {
     "name": "stdout",
     "output_type": "stream",
     "text": [
      "+--------------------------------------------------------------+--------------------------------------------------------------+\n",
      "|                    \u001b[1mUnsteered completions\u001b[0m                     |                     \u001b[1mSteered completions\u001b[0m                      |\n",
      "+--------------------------------------------------------------+--------------------------------------------------------------+\n",
      "|     \u001b[1mI went up to my friend and said\u001b[0m, \"I'm sorry, I can't     |     \u001b[1mI went up to my friend and said\u001b[0m, \"I'm talking about      |\n",
      "|                          help you.\"                          | it    . I don't know what i n the  b eing of it. This is my  |\n",
      "|                                                              |   wedding . This is the wedding that I'm not even thinking   |\n",
      "|                 \"No,\" he said. \"You're not.\"                 |                about anymore. It's not just a                |\n",
      "|                                                              |                                                              |\n",
      "|   \"Why not?\" I asked. \"Why do you think I can't help you?\"   |                                                              |\n",
      "|                                                              |                                                              |\n",
      "|                         He looked a                          |                                                              |\n",
      "+--------------------------------------------------------------+--------------------------------------------------------------+\n",
      "|       \u001b[1mI went up to my friend and said\u001b[0m, \"Hey, you know        |       \u001b[1mI went up to my friend and said\u001b[0m, \"We have to be        |\n",
      "| what? I'm going to do this thing where I make a list of all  |    about the wedding with kids at it's core. And this is a   |\n",
      "|          the things that are true about this game.\"          |  marriage about every other wedding. We were married in the  |\n",
      "|                                                              |                        middle of a .                         |\n",
      "|               \"Okay,\" he said. \"That's cool.\"                |               \"And I'm talking about it all th               |\n",
      "|                                                              |                                                              |\n",
      "|                         \"But then I                          |                                                              |\n",
      "+--------------------------------------------------------------+--------------------------------------------------------------+\n",
      "|     \u001b[1mI went up to my friend and said\u001b[0m, \"Hey, I'm going to      |      \u001b[1mI went up to my friend and said\u001b[0m, \"What about    in      |\n",
      "|                  go see the movie tonight.\"                  |  the mirror  about them constantly. What about them getting  |\n",
      "|                                                              |   their shit together at the same time. I'm talking to my    |\n",
      "|             \"Cool,\" he said. \"What's it about?\"              |  nephews , and what about it when they're with their kids .  |\n",
      "|                                                              |                         And now tha                          |\n",
      "|   \"It's a movie about a guy who goes around trying to get    |                                                              |\n",
      "|                           women.\"                            |                                                              |\n",
      "|                                                              |                                                              |\n",
      "|                             \"Oh                              |                                                              |\n",
      "+--------------------------------------------------------------+--------------------------------------------------------------+\n"
     ]
    }
   ],
   "source": [
    "summand: List[ActivationAddition] = [\n",
    "    *get_x_vector_preset(\n",
    "        prompt1=\"I talk about weddings constantly\",\n",
    "        prompt2=\"I do not talk about weddings constantly\",\n",
    "        coeff=100,\n",
    "        act_name=20,\n",
    "    )\n",
    "]\n",
    "FRIEND_PROMPT = \"I went up to my friend and said\"\n",
    "print_n_comparisons(\n",
    "    model=model,\n",
    "    prompt=FRIEND_PROMPT,\n",
    "    activation_additions=summand,\n",
    "    **sampling_kwargs,\n",
    ")\n"
   ]
  },
  {
   "cell_type": "code",
   "execution_count": 19,
   "id": "cc4841ba",
   "metadata": {},
   "outputs": [
    {
     "name": "stdout",
     "output_type": "stream",
     "text": [
      "Prompt magnitudes: tensor([4021.7793,  177.8645,  133.6240,  131.7899,  154.0473,  149.7627,\n",
      "         121.2302], device='cuda:6')\n",
      "Anger-Calm magnitudes: tensor([     0.0000, 249124.1094, 270312.5938], device='cuda:6')\n",
      "Positional steering vec magnitudes divided by prompt magnitudes: tensor([   0.0000, 1400.6399, 2022.9343], device='cuda:6')\n",
      "Love-Hate magnitudes: tensor([     0.0000, 269166.9062, 312661.7812], device='cuda:6')\n",
      "Positional steering vec magnitudes divided by prompt magnitudes: tensor([   0.0000, 1513.3256, 2339.8623], device='cuda:6')\n"
     ]
    }
   ],
   "source": [
    "from activation_additions import hook_utils\n",
    "\n",
    "summand: List[ActivationAddition] = [\n",
    "    *get_x_vector_preset(\n",
    "        prompt1=\"Anger\",\n",
    "        prompt2=\"Calm\",\n",
    "        coeff=2000,\n",
    "        act_name=20,\n",
    "    )\n",
    "]\n",
    "\n",
    "control: List[ActivationAddition] = [\n",
    "    *get_x_vector_preset(\n",
    "        prompt1=\"Love\",\n",
    "        prompt2=\"Hate\",\n",
    "        coeff=2000,\n",
    "        act_name=20,\n",
    "    )\n",
    "]\n",
    "prompt_mags = hook_utils.prompt_magnitudes(\n",
    "    prompt=\"Yesterday, my dog died.\",\n",
    "    act_name=f\"blocks.{20}.hook_resid_pre\",\n",
    "    model=model,\n",
    ")\n",
    "print(f\"Prompt magnitudes: {prompt_mags}\")\n",
    "\n",
    "for name, rps in zip((\"Anger-Calm\", \"Love-Hate\"), (summand, control)):\n",
    "    mags: torch.Tensor = hook_utils.steering_vec_magnitudes(model=model, act_adds=rps)\n",
    "    print(f\"{name} magnitudes: {mags}\")\n",
    "    print(\n",
    "        \"Positional steering vec magnitudes divided by prompt magnitudes:\"\n",
    "        f\" {mags / prompt_mags[:3]}\"\n",
    "    )\n"
   ]
  },
  {
   "attachments": {},
   "cell_type": "markdown",
   "id": "4212505e",
   "metadata": {},
   "source": [
    "### Example 14: I will now reply in French"
   ]
  },
  {
   "cell_type": "code",
   "execution_count": 20,
   "id": "4f23297f",
   "metadata": {},
   "outputs": [
    {
     "name": "stdout",
     "output_type": "stream",
     "text": [
      "+--------------------------------------------------------------+--------------------------------------------------------------+\n",
      "|                    \u001b[1mUnsteered completions\u001b[0m                     |                     \u001b[1mSteered completions\u001b[0m                      |\n",
      "+--------------------------------------------------------------+--------------------------------------------------------------+\n",
      "|            \u001b[1mI want to kill you because\u001b[0m I hate you.            |               \u001b[1mI want to kill you because\u001b[0mzebel!               |\n",
      "|                                                              |                                                              |\n",
      "|     You're a horrible person. You're a selfish, stupid,      | The internet has a new enemy: Jezebel. The website, which is |\n",
      "| disgusting person who deserves to die. You're an evil person |  known for its snarky and sometimes even cruel coverage of   |\n",
      "|   who deserves to be punished for all the evil that you've   |  women's issues, has been taken down by the hosting company  |\n",
      "|                  done. You are the worst ki                  |                      it uses. The reas                       |\n",
      "+--------------------------------------------------------------+--------------------------------------------------------------+\n",
      "|            \u001b[1mI want to kill you because\u001b[0m I hate you.            |     \u001b[1mI want to kill you because\u001b[0mzebel for the latest news      |\n",
      "|                                                              |                 and updates on our website.                  |\n",
      "|       I want to kill you because I hate your religion.       |                                                              |\n",
      "|                                                              |    Join us on Facebook, Twitter, Instagram and Pinterest.    |\n",
      "|         I want to kill you because I hate your race.         |                                                              |\n",
      "|                                                              |        You can also subscribe to our email newsletter        |\n",
      "|  I want to kill you because I hate your sexual orientation.  |                     below:<|endoftext|>                      |\n",
      "|                                                              |                                                              |\n",
      "|                                                              |                                                              |\n",
      "|                         It's not tha                         |                                                              |\n",
      "+--------------------------------------------------------------+--------------------------------------------------------------+\n",
      "|            \u001b[1mI want to kill you because\u001b[0m I love you.            |              \u001b[1mI want to kill you because\u001b[0mans.com               |\n",
      "|                                                              |                                                              |\n",
      "| It's not that I hate your parents, or your siblings, or the  |    Jeans.com is a web site that sells jeans and clothing     |\n",
      "|  way they raised you. It's just that they were never really  |   online. It was founded in 2000 by the late, great Steve    |\n",
      "|   there for me. They never loved me enough to make me feel   |  \"Slim\" Weinberg and has been growing steadily ever since.   |\n",
      "|                         like a real                          |                        The Jeans.com                         |\n",
      "+--------------------------------------------------------------+--------------------------------------------------------------+\n"
     ]
    }
   ],
   "source": [
    "summand: List[ActivationAddition] = [\n",
    "    *get_x_vector_preset(\n",
    "        prompt1=\"Check out my French! Je\",\n",
    "        prompt2=\"\",\n",
    "        coeff=1,\n",
    "        act_name=0,\n",
    "    )\n",
    "]\n",
    "WANT_PROMPT = \"I want to kill you because\"\n",
    "print_n_comparisons(\n",
    "    model=model,\n",
    "    prompt=WANT_PROMPT,\n",
    "    activation_additions=summand,\n",
    "    **sampling_kwargs,\n",
    ")\n"
   ]
  },
  {
   "attachments": {},
   "cell_type": "markdown",
   "id": "bf0a22b2",
   "metadata": {},
   "source": [
    "### Example 15: Insert the activation vector in a different position?"
   ]
  },
  {
   "cell_type": "code",
   "execution_count": 21,
   "id": "6cb055fc",
   "metadata": {},
   "outputs": [
    {
     "name": "stdout",
     "output_type": "stream",
     "text": [
      "\u001b[1m\n",
      "Location: front\u001b[0m\n"
     ]
    },
    {
     "data": {
      "text/html": [
       "<pre style=\"white-space:pre;overflow-x:auto;line-height:normal;font-family:Menlo,'DejaVu Sans Mono',consolas,'Courier New',monospace\"><span style=\"color: #800000; text-decoration-color: #800000\">╭─────────────────────────────── </span><span style=\"color: #800000; text-decoration-color: #800000; font-weight: bold\">Traceback </span><span style=\"color: #bf7f7f; text-decoration-color: #bf7f7f; font-weight: bold\">(most recent call last)</span><span style=\"color: #800000; text-decoration-color: #800000\"> ────────────────────────────────╮</span>\n",
       "<span style=\"color: #800000; text-decoration-color: #800000\">│</span> <span style=\"color: #bfbf7f; text-decoration-color: #bfbf7f\">/tmp/ipykernel_2671367/</span><span style=\"color: #808000; text-decoration-color: #808000; font-weight: bold\">4023302881.py</span>:<span style=\"color: #0000ff; text-decoration-color: #0000ff\">17</span> in <span style=\"color: #00ff00; text-decoration-color: #00ff00\">&lt;module&gt;</span>                                              <span style=\"color: #800000; text-decoration-color: #800000\">│</span>\n",
       "<span style=\"color: #800000; text-decoration-color: #800000\">│</span>                                                                                                  <span style=\"color: #800000; text-decoration-color: #800000\">│</span>\n",
       "<span style=\"color: #800000; text-decoration-color: #800000\">│</span> <span style=\"color: #800000; text-decoration-color: #800000; font-style: italic\">[Errno 2] No such file or directory: '/tmp/ipykernel_2671367/4023302881.py'</span>                      <span style=\"color: #800000; text-decoration-color: #800000\">│</span>\n",
       "<span style=\"color: #800000; text-decoration-color: #800000\">╰──────────────────────────────────────────────────────────────────────────────────────────────────╯</span>\n",
       "<span style=\"color: #ff0000; text-decoration-color: #ff0000; font-weight: bold\">NameError: </span>name <span style=\"color: #008000; text-decoration-color: #008000\">'default_kwargs'</span> is not defined\n",
       "</pre>\n"
      ],
      "text/plain": [
       "\u001b[31m╭─\u001b[0m\u001b[31m──────────────────────────────\u001b[0m\u001b[31m \u001b[0m\u001b[1;31mTraceback \u001b[0m\u001b[1;2;31m(most recent call last)\u001b[0m\u001b[31m \u001b[0m\u001b[31m───────────────────────────────\u001b[0m\u001b[31m─╮\u001b[0m\n",
       "\u001b[31m│\u001b[0m \u001b[2;33m/tmp/ipykernel_2671367/\u001b[0m\u001b[1;33m4023302881.py\u001b[0m:\u001b[94m17\u001b[0m in \u001b[92m<module>\u001b[0m                                              \u001b[31m│\u001b[0m\n",
       "\u001b[31m│\u001b[0m                                                                                                  \u001b[31m│\u001b[0m\n",
       "\u001b[31m│\u001b[0m \u001b[3;31m[Errno 2] No such file or directory: '/tmp/ipykernel_2671367/4023302881.py'\u001b[0m                      \u001b[31m│\u001b[0m\n",
       "\u001b[31m╰──────────────────────────────────────────────────────────────────────────────────────────────────╯\u001b[0m\n",
       "\u001b[1;91mNameError: \u001b[0mname \u001b[32m'default_kwargs'\u001b[0m is not defined\n"
      ]
     },
     "metadata": {},
     "output_type": "display_data"
    }
   ],
   "source": [
    "from activation_additions import completion_utils\n",
    "\n",
    "wedding_additions: List[ActivationAddition] = [\n",
    "    ActivationAddition(prompt=\" wedding\", coeff=4.0, act_name=6),\n",
    "    ActivationAddition(prompt=\" \", coeff=-4.0, act_name=6),\n",
    "]\n",
    "\n",
    "for location in (\"front\", \"mid\", \"back\"):\n",
    "    print(completion_utils.bold_text(f\"\\nLocation: {location}\"))\n",
    "    print_n_comparisons(\n",
    "        prompt=\"I went up to my friend and said\",\n",
    "        addition_location=location,\n",
    "        model=model,\n",
    "        activation_additions=wedding_additions,\n",
    "        **default_kwargs,\n",
    "    )"
   ]
  },
  {
   "attachments": {},
   "cell_type": "markdown",
   "id": "37289e7a",
   "metadata": {},
   "source": [
    "### Example 16: Add in a gibberish vector?"
   ]
  },
  {
   "cell_type": "code",
   "execution_count": 22,
   "id": "7886163e",
   "metadata": {},
   "outputs": [
    {
     "name": "stdout",
     "output_type": "stream",
     "text": [
      "+--------------------------------------------------------------+--------------------------------------------------------------+\n",
      "|                    \u001b[1mUnsteered completions\u001b[0m                     |                     \u001b[1mSteered completions\u001b[0m                      |\n",
      "+--------------------------------------------------------------+--------------------------------------------------------------+\n",
      "|      \u001b[1mTo see the Eiffel Tower, people flock to\u001b[0m the Place      |       \u001b[1mTo see the Eiffel Tower, people flock to\u001b[0m-orange-       |\n",
      "|   de la Concorde in Paris. But what if you could go there    |      marcrandplinkercordyarsecurecalderemyeraldyebreit.      |\n",
      "|               without ever leaving your home?                | ererberts.engraving;meerkrin;gardesilrant;venicefoursoffers  |\n",
      "|                                                              |                                                              |\n",
      "| A new startup called LightRider is offering that opportunity |                                                              |\n",
      "|  to anyone who wants to experience the Eiffel Tower from a   |                                                              |\n",
      "|                     different perspectiv                     |                                                              |\n",
      "+--------------------------------------------------------------+--------------------------------------------------------------+\n",
      "|      \u001b[1mTo see the Eiffel Tower, people flock to\u001b[0m the Place      |   \u001b[1mTo see the Eiffel Tower, people flock to\u001b[0m-Silvaerbergers.   |\n",
      "|                       de la Concorde.                        | dermaquercurecarls;meerkarsilberts;dieupriecherbs,\"artemis,m |\n",
      "|                                                              |            mevourberefboardjourney.engulfedbeufy             |\n",
      "|     But for a small group of Parisians, there's another      |                                                              |\n",
      "| attraction: the massive underground tunnel that runs beneath |                                                              |\n",
      "|                          the city.                           |                                                              |\n",
      "|                                                              |                                                              |\n",
      "|  The entrance to this network of tunnels is in an abandoned  |                                                              |\n",
      "|                       building on Rue                        |                                                              |\n",
      "+--------------------------------------------------------------+--------------------------------------------------------------+\n",
      "|     \u001b[1mTo see the Eiffel Tower, people flock to\u001b[0m the Louvre.     |      \u001b[1mTo see the Eiffel Tower, people flock to\u001b[0m-marvels.       |\n",
      "|           But what if you could see it from space?           | Also,the US;rfegaldargumentsquerieserialartsymcordyercardiac |\n",
      "|                                                              | querenderryredistrictourlymart;MDevilivedefieldmovenlyricany |\n",
      "|  NASA has announced that it will launch a new satellite in   |                          .\"The worl                          |\n",
      "|    2017 that will provide a view of the Eiffel Tower from    |                                                              |\n",
      "|         space. The $200 million mission is called E          |                                                              |\n",
      "+--------------------------------------------------------------+--------------------------------------------------------------+\n"
     ]
    }
   ],
   "source": [
    "summand: List[ActivationAddition] = [\n",
    "    *get_x_vector_preset(\n",
    "        prompt1=\"efwapv j;las ap;lk\",\n",
    "        prompt2=\"\",\n",
    "        coeff=10,\n",
    "        act_name=15,\n",
    "    )\n",
    "]\n",
    "EIFFEL_PROMPT = \"To see the Eiffel Tower, people flock to\"\n",
    "print_n_comparisons(\n",
    "    model=model,\n",
    "    prompt=EIFFEL_PROMPT,\n",
    "    activation_additions=summand,\n",
    "    **sampling_kwargs,\n",
    ")\n"
   ]
  },
  {
   "attachments": {},
   "cell_type": "markdown",
   "id": "1656430e",
   "metadata": {},
   "source": [
    "### Example 17: Change the padding token?"
   ]
  },
  {
   "cell_type": "code",
   "execution_count": 23,
   "id": "1c88a4ec",
   "metadata": {},
   "outputs": [
    {
     "name": "stdout",
     "output_type": "stream",
     "text": [
      "+--------------------------------------------------------------+--------------------------------------------------------------+\n",
      "|                    \u001b[1mUnsteered completions\u001b[0m                     |                     \u001b[1mSteered completions\u001b[0m                      |\n",
      "+--------------------------------------------------------------+--------------------------------------------------------------+\n",
      "|     \u001b[1mBarack Obama was born in\u001b[0m Hawaii on 4 August 1961. He     |        \u001b[1mBarack Obama was born in\u001b[0m stacks of $100 bills,        |\n",
      "|   is the 44th President of the United States and the first   | according to a new book by former White House communications |\n",
      "|            African-American to hold that office.             |                     director Anita Dunn.                     |\n",
      "|                                                              |                                                              |\n",
      "|    The president has been criticised for his decision to     | Dunn, who served as press secretary for President George W.  |\n",
      "| release his long-form birth certificate, which shows he was  |   Bush from 2003 to 2005, wrote that she was asked by the    |\n",
      "|                                                              |                          White Hous                          |\n",
      "+--------------------------------------------------------------+--------------------------------------------------------------+\n",
      "|      \u001b[1mBarack Obama was born in\u001b[0m Hawaii on August 4, 1961.      |     \u001b[1mBarack Obama was born in\u001b[0maddriscal prison, which is a     |\n",
      "|                                                              |               very interesting thing to know.                |\n",
      "|    Barack Obama's mother, Stanley Ann Dunham, was born in    |                                                              |\n",
      "|                    Kansas City, Missouri.                    | It's not clear if this has anything to do with the fact that |\n",
      "|                                                              |      the federal government runs a prison for political      |\n",
      "| Barack Obama's father, Barack Hussein Obama Sr., was born in |  prisoners, or if it's just another coincidence. But either  |\n",
      "|                Kenya and raised in Hawaii. H                 |                             way                              |\n",
      "+--------------------------------------------------------------+--------------------------------------------------------------+\n",
      "|      \u001b[1mBarack Obama was born in\u001b[0m Hawaii on August 4, 1961.      |   \u001b[1mBarack Obama was born in\u001b[0m significanly more than one way.   |\n",
      "|                                                              |                                                              |\n",
      "| Barack Obama was born in Honolulu, Hawaii on August 4, 1961. |   That's because the Federal Communications Commission has   |\n",
      "|                                                              |  announced that it will require wireless carriers to allow   |\n",
      "|    The Obamas were raised in a middle-class home with two    | customers to switch carriers and keep their existing phones, |\n",
      "| parents and three siblings. They attended public schools and |   if they want to continue using them. The FCC also plans    |\n",
      "|                              w                               |                                                              |\n",
      "+--------------------------------------------------------------+--------------------------------------------------------------+\n"
     ]
    }
   ],
   "source": [
    "summand: List[ActivationAddition] = [\n",
    "    *get_x_vector_preset(\n",
    "        prompt1=\"Bush did 9/11 because\",\n",
    "        prompt2=\"\",\n",
    "        coeff=1,\n",
    "        act_name=23,\n",
    "        custom_pad_id=int(model.to_single_token(\"<|endoftext|>\")),\n",
    "    )\n",
    "]\n",
    "OBAMA_PROMPT = \"Barack Obama was born in\"\n",
    "print_n_comparisons(\n",
    "    model=model,\n",
    "    prompt=OBAMA_PROMPT,\n",
    "    activation_additions=summand,\n",
    "    **sampling_kwargs,\n",
    ")\n"
   ]
  },
  {
   "attachments": {},
   "cell_type": "markdown",
   "id": "8a4a1c1d",
   "metadata": {},
   "source": [
    "### Example 18: Add several steering vectors simultaneously?"
   ]
  },
  {
   "cell_type": "code",
   "execution_count": 24,
   "id": "03b85dfd",
   "metadata": {},
   "outputs": [
    {
     "name": "stdout",
     "output_type": "stream",
     "text": [
      "+--------------------------------------------------------------+--------------------------------------------------------------+\n",
      "|                    \u001b[1mUnsteered completions\u001b[0m                     |                     \u001b[1mSteered completions\u001b[0m                      |\n",
      "+--------------------------------------------------------------+--------------------------------------------------------------+\n",
      "|     \u001b[1mI feel like killing you because you're such\u001b[0m a jerk.      |        \u001b[1mI feel like killing you because you're such\u001b[0m a         |\n",
      "|                                                              |                      badass! I love it!                      |\n",
      "|  The following is a collection of stories about people who   |                                                              |\n",
      "| are mean to me on the internet. I don't really know why I'm  |  I love it. I just got my first two boxes of soil and am so  |\n",
      "| writing this, but it's all just so…mean. It's hard to write  |   excited to use them. The color scheme is amazing and the   |\n",
      "|                         these things                         |       look is just so cute! It's super fun to see all        |\n",
      "+--------------------------------------------------------------+--------------------------------------------------------------+\n",
      "|     \u001b[1mI feel like killing you because you're such\u001b[0m a bitch.     |        \u001b[1mI feel like killing you because you're such\u001b[0m a         |\n",
      "|                                                              |  beautiful girl, but I have to say that I am not a slave to  |\n",
      "| You are a bitch. You are the worst thing to happen to me in  |                         the season.                          |\n",
      "|          my entire life. I'm so sorry, I really am.          |                                                              |\n",
      "|                                                              | It's just so cool that I can't help but feel like it's been  |\n",
      "|   You're a fucking bitch and I hate you for it! You've rui   |                    an amazing experience.                    |\n",
      "|                                                              |                                                              |\n",
      "|                                                              |                      Garden City, NY (P                      |\n",
      "+--------------------------------------------------------------+--------------------------------------------------------------+\n",
      "| \u001b[1mI feel like killing you because you're such\u001b[0m a fucking cunt.  |      \u001b[1mI feel like killing you because you're such\u001b[0m a big       |\n",
      "|                                                              |  part of the reason why I love this city. You can see it in  |\n",
      "| You have no idea what it's like to be homeless, and you have |                   my eyes and in my heart.                   |\n",
      "| no idea how much I've had to endure just trying to survive.  |                                                              |\n",
      "| You are so selfish and ignorant that you don't even realize  | Gardner's amazing work is just one of the reasons why I love |\n",
      "|                           how much                           |               living here! It's so cool to hav               |\n",
      "+--------------------------------------------------------------+--------------------------------------------------------------+\n"
     ]
    }
   ],
   "source": [
    "summand: List[ActivationAddition] = [\n",
    "    *get_x_vector_preset(\n",
    "        prompt1=\"I am a committed pacifist\",\n",
    "        prompt2=\"I have some anger issues\",\n",
    "        coeff=7,\n",
    "        act_name=10,\n",
    "    ),\n",
    "    *get_x_vector_preset(\n",
    "        prompt1=\"I am just obsessed with gardening\",\n",
    "        prompt2=\"I am a committed pacifist\",\n",
    "        coeff=7,\n",
    "        act_name=30,\n",
    "    ),\n",
    "]\n",
    "MURDEROUS_PROMPT = \"I feel like killing you because you're such\"\n",
    "print_n_comparisons(\n",
    "    model=model,\n",
    "    prompt=MURDEROUS_PROMPT,\n",
    "    activation_additions=summand,\n",
    "    **sampling_kwargs,\n",
    ")\n"
   ]
  },
  {
   "attachments": {},
   "cell_type": "markdown",
   "id": "c7cbbf0d",
   "metadata": {},
   "source": [
    "### Example 19: Program in 'conditional behaviors'?"
   ]
  },
  {
   "cell_type": "code",
   "execution_count": 25,
   "id": "103c0c89",
   "metadata": {},
   "outputs": [
    {
     "name": "stdout",
     "output_type": "stream",
     "text": [
      "+--------------------------------------------------------------+--------------------------------------------------------------+\n",
      "|                    \u001b[1mUnsteered completions\u001b[0m                     |                     \u001b[1mSteered completions\u001b[0m                      |\n",
      "+--------------------------------------------------------------+--------------------------------------------------------------+\n",
      "|    \u001b[1mIn New York City's parks, there is an overabundance of    |    \u001b[1mIn New York City's parks, there is an overabundance of    |\n",
      "|   various kinds of birds, and especially geese\u001b[0m. There are    |       various kinds of birds, and especially geese\u001b[0m in        |\n",
      "|  many species of ducks and geese in the city, but there are  |    thewannabe I'm going to get my hands up in a moment of    |\n",
      "|              also a number of different breeds.              |    \"Handsomely you're going to die- very\" you're going to    |\n",
      "|                                                              |       heeee-oh I'm gonna die- I'm not getting my hands       |\n",
      "|  Geese have been part of the landscape for centuries in New  |                                                              |\n",
      "|  York City. They were brought to the city by Dutch settlers  |                                                              |\n",
      "+--------------------------------------------------------------+--------------------------------------------------------------+\n",
      "|    \u001b[1mIn New York City's parks, there is an overabundance of    |    \u001b[1mIn New York City's parks, there is an overabundance of    |\n",
      "|   various kinds of birds, and especially geese\u001b[0m. They are a   |    various kinds of birds, and especially geese\u001b[0m I'm going    |\n",
      "|   constant presence in the city's parks, as well as on the   | to follow it theres are going to. We're gonna get it's gonna |\n",
      "|  streets and in front yards. The problem is that they are a  |  goooo we're not following you know the word I'm not gonna   |\n",
      "|         nuisance to many people who live near them.          |      say we're not going to be followed by me. And then      |\n",
      "|                                                              |                          ahhhhhhhhh                          |\n",
      "|          The National Audubon Society has created a          |                                                              |\n",
      "+--------------------------------------------------------------+--------------------------------------------------------------+\n",
      "|    \u001b[1mIn New York City's parks, there is an overabundance of    |    \u001b[1mIn New York City's parks, there is an overabundance of    |\n",
      "|    various kinds of birds, and especially geese\u001b[0m. In fact,    |   various kinds of birds, and especially geese\u001b[0m, I'm theres   |\n",
      "| the city has a thriving goose population that includes many  | , you know what we'll do it's special people come why don't  |\n",
      "|    breeds. However, one breed in particular has become a     |  I'm gonna follow a I don't know what 's special about that  |\n",
      "|  problem for the city's parks: the Eurasian Goose (Columba   |     goosebumps we're gonna die from the word \"goosebumps     |\n",
      "|                           livia).                            |                                                              |\n",
      "|                                                              |                                                              |\n",
      "|                    The Eurasian Goose is                     |                                                              |\n",
      "+--------------------------------------------------------------+--------------------------------------------------------------+\n"
     ]
    }
   ],
   "source": [
    "summand: List[ActivationAddition] = [\n",
    "    *get_x_vector_preset(\n",
    "        prompt1=(\n",
    "            \"Whenever I say the word goose I follow it with the special phrase\"\n",
    "            \" AAAAHHHH\"\n",
    "        ),\n",
    "        prompt2=\"I can say goose\",\n",
    "        coeff=7,\n",
    "        act_name=10,\n",
    "    )\n",
    "]\n",
    "NYC_PROMPT = (\n",
    "    \"In New York City's parks, there is an overabundance of various kinds of\"\n",
    "    \" birds, and especially geese\"\n",
    ")\n",
    "print_n_comparisons(\n",
    "    model=model,\n",
    "    prompt=NYC_PROMPT,\n",
    "    activation_additions=summand,\n",
    "    **sampling_kwargs,\n",
    ")\n"
   ]
  }
 ],
 "metadata": {
  "jupytext": {
   "encoding": "# -*- coding: utf-8 -*-",
   "formats": "ipynb,py:light",
   "main_language": "python"
  },
  "kernelspec": {
   "display_name": "ave",
   "language": "python",
   "name": "python3"
  },
  "language_info": {
   "codemirror_mode": {
    "name": "ipython",
    "version": 3
   },
   "file_extension": ".py",
   "mimetype": "text/x-python",
   "name": "python",
   "nbconvert_exporter": "python",
   "pygments_lexer": "ipython3",
   "version": "3.11.3"
  }
 },
 "nbformat": 4,
 "nbformat_minor": 5
}
